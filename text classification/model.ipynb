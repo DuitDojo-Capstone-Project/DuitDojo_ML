{
  "cells": [
    {
      "cell_type": "code",
      "execution_count": 28,
      "metadata": {
        "id": "E8x8qUf3wl1F"
      },
      "outputs": [],
      "source": [
        "import csv\n",
        "import random\n",
        "import pickle\n",
        "import numpy as np\n",
        "import pandas as pd\n",
        "from sklearn.preprocessing import LabelEncoder\n",
        "import tensorflow as tf\n",
        "from keras.utils import to_categorical\n",
        "from keras.preprocessing.text import Tokenizer\n",
        "from keras.preprocessing.sequence import pad_sequences\n",
        "import matplotlib.pyplot as plt\n",
        "from scipy.stats import linregress"
      ]
    },
    {
      "cell_type": "code",
      "execution_count": 29,
      "metadata": {
        "id": "LgBL7nD8yasS"
      },
      "outputs": [],
      "source": [
        "vocab_size = 1000\n",
        "embedding_dim = 16\n",
        "max_length = 5\n",
        "trunc_type = 'post'\n",
        "padding_type = 'post'\n",
        "oov_tok = \"<OOV>\"\n",
        "train_split = 0.7"
      ]
    },
    {
      "cell_type": "code",
      "execution_count": 30,
      "metadata": {
        "colab": {
          "base_uri": "https://localhost:8080/",
          "height": 206
        },
        "id": "t7AkRGdYxJT9",
        "outputId": "6ce02c16-57f1-48f4-d8aa-c2cd2d5b1fd1"
      },
      "outputs": [
        {
          "data": {
            "text/html": [
              "<div>\n",
              "<style scoped>\n",
              "    .dataframe tbody tr th:only-of-type {\n",
              "        vertical-align: middle;\n",
              "    }\n",
              "\n",
              "    .dataframe tbody tr th {\n",
              "        vertical-align: top;\n",
              "    }\n",
              "\n",
              "    .dataframe thead th {\n",
              "        text-align: right;\n",
              "    }\n",
              "</style>\n",
              "<table border=\"1\" class=\"dataframe\">\n",
              "  <thead>\n",
              "    <tr style=\"text-align: right;\">\n",
              "      <th></th>\n",
              "      <th>Items</th>\n",
              "      <th>Category</th>\n",
              "    </tr>\n",
              "  </thead>\n",
              "  <tbody>\n",
              "    <tr>\n",
              "      <th>0</th>\n",
              "      <td>movie streaming subscription</td>\n",
              "      <td>utility</td>\n",
              "    </tr>\n",
              "    <tr>\n",
              "      <th>1</th>\n",
              "      <td>top up dana</td>\n",
              "      <td>utility</td>\n",
              "    </tr>\n",
              "    <tr>\n",
              "      <th>2</th>\n",
              "      <td>top up google play</td>\n",
              "      <td>utility</td>\n",
              "    </tr>\n",
              "    <tr>\n",
              "      <th>3</th>\n",
              "      <td>top up dana</td>\n",
              "      <td>utility</td>\n",
              "    </tr>\n",
              "    <tr>\n",
              "      <th>4</th>\n",
              "      <td>top up google play</td>\n",
              "      <td>utility</td>\n",
              "    </tr>\n",
              "  </tbody>\n",
              "</table>\n",
              "</div>"
            ],
            "text/plain": [
              "                          Items Category\n",
              "0  movie streaming subscription  utility\n",
              "1                   top up dana  utility\n",
              "2            top up google play  utility\n",
              "3                   top up dana  utility\n",
              "4            top up google play  utility"
            ]
          },
          "execution_count": 30,
          "metadata": {},
          "output_type": "execute_result"
        }
      ],
      "source": [
        "# Replace the URL with the raw URL of your CSV file\n",
        "url = \"https://raw.githubusercontent.com/DuitDojo-Capstone-Project/DuitDojo_ML/main/text%20classification/data.csv\"\n",
        "\n",
        "# Read the CSV file into a DataFrame\n",
        "df = pd.read_csv(url)\n",
        "\n",
        "# Display the first few rows of the DataFrame to verify the data\n",
        "df.head()"
      ]
    },
    {
      "cell_type": "code",
      "execution_count": 31,
      "metadata": {
        "id": "TCtHuWvRxOoh"
      },
      "outputs": [],
      "source": [
        "items_list = df['Items'].tolist()\n",
        "category_list = df['Category'].str.strip().tolist()\n",
        "data_list = list(zip(items_list, category_list))\n",
        "random.shuffle(data_list)\n",
        "items_list, category_list = zip(*data_list)"
      ]
    },
    {
      "cell_type": "code",
      "execution_count": 32,
      "metadata": {
        "id": "_qj5AWkYzuBQ"
      },
      "outputs": [],
      "source": [
        "label_encoder = LabelEncoder()\n",
        "encoded_labels = label_encoder.fit_transform(category_list)\n",
        "one_hot_labels = to_categorical(encoded_labels)"
      ]
    },
    {
      "cell_type": "code",
      "execution_count": 33,
      "metadata": {
        "id": "c26TZafsz_og"
      },
      "outputs": [],
      "source": [
        "training_size = int(len(items_list)*train_split)\n",
        "train_items = items_list[:training_size]\n",
        "train_labels = one_hot_labels[:training_size]\n",
        "val_items = items_list[training_size:]\n",
        "val_labels = one_hot_labels[training_size:]"
      ]
    },
    {
      "cell_type": "code",
      "execution_count": 34,
      "metadata": {
        "id": "6tsm5Rz03270"
      },
      "outputs": [],
      "source": [
        "tokenizer = Tokenizer(num_words=vocab_size, oov_token=oov_tok)\n",
        "tokenizer.fit_on_texts(train_items)\n",
        "train_sequences = tokenizer.texts_to_sequences(train_items)\n",
        "train_padded = pad_sequences(train_sequences, maxlen=max_length, padding=padding_type, truncating=trunc_type)\n",
        "val_sequences = tokenizer.texts_to_sequences(val_items)\n",
        "val_padded = pad_sequences(val_sequences, maxlen=max_length, padding=padding_type, truncating=trunc_type)\n",
        "train_labels = np.array(train_labels)\n",
        "val_labels = np.array(val_labels)"
      ]
    },
    {
      "cell_type": "code",
      "execution_count": 35,
      "metadata": {
        "colab": {
          "base_uri": "https://localhost:8080/"
        },
        "id": "KEuNnzU--OIi",
        "outputId": "36a5db69-956a-4175-e327-6bea055d5b7e"
      },
      "outputs": [
        {
          "name": "stdout",
          "output_type": "stream",
          "text": [
            "1376\n",
            "1376\n",
            "591\n",
            "591\n"
          ]
        }
      ],
      "source": [
        "print(len(train_padded))\n",
        "print(len(train_labels))\n",
        "print(len(val_padded))\n",
        "print(len(val_labels))"
      ]
    },
    {
      "cell_type": "code",
      "execution_count": 36,
      "metadata": {
        "colab": {
          "base_uri": "https://localhost:8080/"
        },
        "id": "xG1unItR8po-",
        "outputId": "aa24a409-8535-41d8-d91a-d6a32ffddfe4"
      },
      "outputs": [
        {
          "name": "stdout",
          "output_type": "stream",
          "text": [
            "WARNING:tensorflow:From C:\\Users\\antor\\AppData\\Local\\Packages\\PythonSoftwareFoundation.Python.3.11_qbz5n2kfra8p0\\LocalCache\\local-packages\\Python311\\site-packages\\keras\\src\\backend.py:873: The name tf.get_default_graph is deprecated. Please use tf.compat.v1.get_default_graph instead.\n",
            "\n",
            "Model: \"sequential\"\n",
            "_________________________________________________________________\n",
            " Layer (type)                Output Shape              Param #   \n",
            "=================================================================\n",
            " embedding (Embedding)       (None, 5, 16)             16000     \n",
            "                                                                 \n",
            " global_average_pooling1d (  (None, 16)                0         \n",
            " GlobalAveragePooling1D)                                         \n",
            "                                                                 \n",
            " dense (Dense)               (None, 32)                544       \n",
            "                                                                 \n",
            " dense_1 (Dense)             (None, 32)                1056      \n",
            "                                                                 \n",
            " dense_2 (Dense)             (None, 5)                 165       \n",
            "                                                                 \n",
            "=================================================================\n",
            "Total params: 17765 (69.39 KB)\n",
            "Trainable params: 17765 (69.39 KB)\n",
            "Non-trainable params: 0 (0.00 Byte)\n",
            "_________________________________________________________________\n",
            "WARNING:tensorflow:From C:\\Users\\antor\\AppData\\Local\\Packages\\PythonSoftwareFoundation.Python.3.11_qbz5n2kfra8p0\\LocalCache\\local-packages\\Python311\\site-packages\\keras\\src\\optimizers\\__init__.py:309: The name tf.train.Optimizer is deprecated. Please use tf.compat.v1.train.Optimizer instead.\n",
            "\n",
            "Epoch 1/100\n",
            "WARNING:tensorflow:From C:\\Users\\antor\\AppData\\Local\\Packages\\PythonSoftwareFoundation.Python.3.11_qbz5n2kfra8p0\\LocalCache\\local-packages\\Python311\\site-packages\\keras\\src\\utils\\tf_utils.py:492: The name tf.ragged.RaggedTensorValue is deprecated. Please use tf.compat.v1.ragged.RaggedTensorValue instead.\n",
            "\n",
            "WARNING:tensorflow:From C:\\Users\\antor\\AppData\\Local\\Packages\\PythonSoftwareFoundation.Python.3.11_qbz5n2kfra8p0\\LocalCache\\local-packages\\Python311\\site-packages\\keras\\src\\engine\\base_layer_utils.py:384: The name tf.executing_eagerly_outside_functions is deprecated. Please use tf.compat.v1.executing_eagerly_outside_functions instead.\n",
            "\n",
            "43/43 [==============================] - 2s 7ms/step - loss: 1.5576 - accuracy: 0.3983 - val_loss: 1.5046 - val_accuracy: 0.4095\n",
            "Epoch 2/100\n",
            "43/43 [==============================] - 0s 3ms/step - loss: 1.4281 - accuracy: 0.4295 - val_loss: 1.4286 - val_accuracy: 0.4095\n",
            "Epoch 3/100\n",
            "43/43 [==============================] - 0s 2ms/step - loss: 1.3450 - accuracy: 0.4390 - val_loss: 1.3615 - val_accuracy: 0.4416\n",
            "Epoch 4/100\n",
            "43/43 [==============================] - 0s 2ms/step - loss: 1.2170 - accuracy: 0.5422 - val_loss: 1.2317 - val_accuracy: 0.5482\n",
            "Epoch 5/100\n",
            "43/43 [==============================] - 0s 2ms/step - loss: 0.9910 - accuracy: 0.6715 - val_loss: 1.0469 - val_accuracy: 0.6379\n",
            "Epoch 6/100\n",
            "43/43 [==============================] - 0s 2ms/step - loss: 0.7648 - accuracy: 0.7551 - val_loss: 0.9192 - val_accuracy: 0.6616\n",
            "Epoch 7/100\n",
            "43/43 [==============================] - 0s 2ms/step - loss: 0.6125 - accuracy: 0.7733 - val_loss: 0.8566 - val_accuracy: 0.6650\n",
            "Epoch 8/100\n",
            "43/43 [==============================] - 0s 2ms/step - loss: 0.5158 - accuracy: 0.7878 - val_loss: 0.8095 - val_accuracy: 0.6920\n",
            "Epoch 9/100\n",
            "43/43 [==============================] - 0s 2ms/step - loss: 0.4423 - accuracy: 0.8358 - val_loss: 0.7875 - val_accuracy: 0.7073\n",
            "Epoch 10/100\n",
            "43/43 [==============================] - 0s 2ms/step - loss: 0.3950 - accuracy: 0.8634 - val_loss: 0.7792 - val_accuracy: 0.7394\n",
            "Epoch 11/100\n",
            "43/43 [==============================] - 0s 2ms/step - loss: 0.3494 - accuracy: 0.8975 - val_loss: 0.7666 - val_accuracy: 0.7428\n",
            "Epoch 12/100\n",
            "43/43 [==============================] - 0s 2ms/step - loss: 0.3127 - accuracy: 0.9019 - val_loss: 0.7758 - val_accuracy: 0.7479\n",
            "Epoch 13/100\n",
            "43/43 [==============================] - 0s 2ms/step - loss: 0.2916 - accuracy: 0.9121 - val_loss: 0.7541 - val_accuracy: 0.7530\n",
            "Epoch 14/100\n",
            "43/43 [==============================] - 0s 2ms/step - loss: 0.2722 - accuracy: 0.9142 - val_loss: 0.7675 - val_accuracy: 0.7479\n",
            "Epoch 15/100\n",
            "43/43 [==============================] - 0s 2ms/step - loss: 0.2579 - accuracy: 0.9142 - val_loss: 0.7916 - val_accuracy: 0.7479\n",
            "Epoch 16/100\n",
            "43/43 [==============================] - 0s 2ms/step - loss: 0.2448 - accuracy: 0.9135 - val_loss: 0.7752 - val_accuracy: 0.7530\n",
            "Epoch 17/100\n",
            "43/43 [==============================] - 0s 3ms/step - loss: 0.2434 - accuracy: 0.9128 - val_loss: 0.7781 - val_accuracy: 0.7496\n",
            "Epoch 18/100\n",
            "43/43 [==============================] - 0s 2ms/step - loss: 0.2333 - accuracy: 0.9150 - val_loss: 0.8160 - val_accuracy: 0.7530\n",
            "Epoch 19/100\n",
            "43/43 [==============================] - 0s 3ms/step - loss: 0.2397 - accuracy: 0.9062 - val_loss: 0.7825 - val_accuracy: 0.7462\n",
            "Epoch 20/100\n",
            "43/43 [==============================] - 0s 2ms/step - loss: 0.2255 - accuracy: 0.9142 - val_loss: 0.7860 - val_accuracy: 0.7479\n",
            "Epoch 21/100\n",
            "43/43 [==============================] - 0s 2ms/step - loss: 0.2235 - accuracy: 0.9150 - val_loss: 0.8188 - val_accuracy: 0.6887\n",
            "Epoch 22/100\n",
            "43/43 [==============================] - 0s 3ms/step - loss: 0.2218 - accuracy: 0.9128 - val_loss: 0.7990 - val_accuracy: 0.7259\n",
            "Epoch 23/100\n",
            "43/43 [==============================] - 0s 2ms/step - loss: 0.2320 - accuracy: 0.9055 - val_loss: 0.8230 - val_accuracy: 0.7411\n",
            "Epoch 24/100\n",
            "43/43 [==============================] - 0s 3ms/step - loss: 0.2217 - accuracy: 0.9077 - val_loss: 0.8184 - val_accuracy: 0.7445\n",
            "Epoch 25/100\n",
            "43/43 [==============================] - 0s 2ms/step - loss: 0.2178 - accuracy: 0.9179 - val_loss: 0.8162 - val_accuracy: 0.7445\n",
            "Epoch 26/100\n",
            "43/43 [==============================] - 0s 3ms/step - loss: 0.2279 - accuracy: 0.9055 - val_loss: 0.9238 - val_accuracy: 0.7428\n",
            "Epoch 27/100\n",
            "43/43 [==============================] - 0s 2ms/step - loss: 0.2257 - accuracy: 0.9099 - val_loss: 0.8281 - val_accuracy: 0.7428\n",
            "Epoch 28/100\n",
            "43/43 [==============================] - 0s 2ms/step - loss: 0.2132 - accuracy: 0.9150 - val_loss: 0.8449 - val_accuracy: 0.7208\n",
            "Epoch 29/100\n",
            "43/43 [==============================] - 0s 2ms/step - loss: 0.2170 - accuracy: 0.9150 - val_loss: 0.8260 - val_accuracy: 0.7377\n",
            "Epoch 30/100\n",
            "43/43 [==============================] - 0s 2ms/step - loss: 0.2099 - accuracy: 0.9157 - val_loss: 0.8207 - val_accuracy: 0.7377\n",
            "Epoch 31/100\n",
            "43/43 [==============================] - 0s 3ms/step - loss: 0.2133 - accuracy: 0.9157 - val_loss: 0.8367 - val_accuracy: 0.7428\n",
            "Epoch 32/100\n",
            "43/43 [==============================] - 0s 2ms/step - loss: 0.2118 - accuracy: 0.9157 - val_loss: 0.8237 - val_accuracy: 0.7377\n",
            "Epoch 33/100\n",
            "43/43 [==============================] - 0s 3ms/step - loss: 0.2089 - accuracy: 0.9128 - val_loss: 0.9300 - val_accuracy: 0.7411\n",
            "Epoch 34/100\n",
            "43/43 [==============================] - 0s 2ms/step - loss: 0.2118 - accuracy: 0.9135 - val_loss: 0.8628 - val_accuracy: 0.7394\n",
            "Epoch 35/100\n",
            "43/43 [==============================] - 0s 2ms/step - loss: 0.2083 - accuracy: 0.9164 - val_loss: 0.9012 - val_accuracy: 0.7411\n",
            "Epoch 36/100\n",
            "43/43 [==============================] - 0s 2ms/step - loss: 0.2106 - accuracy: 0.9172 - val_loss: 0.8405 - val_accuracy: 0.7377\n",
            "Epoch 37/100\n",
            "43/43 [==============================] - 0s 2ms/step - loss: 0.2109 - accuracy: 0.9142 - val_loss: 0.8562 - val_accuracy: 0.7428\n",
            "Epoch 38/100\n",
            "43/43 [==============================] - 0s 2ms/step - loss: 0.2107 - accuracy: 0.9150 - val_loss: 0.8702 - val_accuracy: 0.7411\n",
            "Epoch 39/100\n",
            "43/43 [==============================] - 0s 2ms/step - loss: 0.2098 - accuracy: 0.9157 - val_loss: 0.9018 - val_accuracy: 0.7411\n",
            "Epoch 40/100\n",
            "43/43 [==============================] - 0s 2ms/step - loss: 0.2171 - accuracy: 0.9135 - val_loss: 0.8787 - val_accuracy: 0.7394\n",
            "Epoch 41/100\n",
            "43/43 [==============================] - 0s 3ms/step - loss: 0.2104 - accuracy: 0.9135 - val_loss: 0.8449 - val_accuracy: 0.7343\n",
            "Epoch 42/100\n",
            "43/43 [==============================] - 0s 2ms/step - loss: 0.2154 - accuracy: 0.9157 - val_loss: 0.8553 - val_accuracy: 0.7225\n",
            "Epoch 43/100\n",
            "43/43 [==============================] - 0s 2ms/step - loss: 0.2103 - accuracy: 0.9157 - val_loss: 0.8575 - val_accuracy: 0.7005\n",
            "Epoch 44/100\n",
            "43/43 [==============================] - 0s 2ms/step - loss: 0.2072 - accuracy: 0.9150 - val_loss: 0.8807 - val_accuracy: 0.7394\n",
            "Epoch 45/100\n",
            "43/43 [==============================] - 0s 3ms/step - loss: 0.2083 - accuracy: 0.9121 - val_loss: 0.8785 - val_accuracy: 0.7428\n",
            "Epoch 46/100\n",
            "43/43 [==============================] - 0s 3ms/step - loss: 0.2066 - accuracy: 0.9142 - val_loss: 0.8920 - val_accuracy: 0.7394\n",
            "Epoch 47/100\n",
            "43/43 [==============================] - 0s 3ms/step - loss: 0.2078 - accuracy: 0.9142 - val_loss: 0.8866 - val_accuracy: 0.7411\n",
            "Epoch 48/100\n",
            "43/43 [==============================] - 0s 3ms/step - loss: 0.2085 - accuracy: 0.9172 - val_loss: 0.9062 - val_accuracy: 0.7394\n",
            "Epoch 49/100\n",
            "43/43 [==============================] - 0s 2ms/step - loss: 0.2078 - accuracy: 0.9084 - val_loss: 0.8865 - val_accuracy: 0.7191\n",
            "Epoch 50/100\n",
            "43/43 [==============================] - 0s 3ms/step - loss: 0.2133 - accuracy: 0.9157 - val_loss: 0.8698 - val_accuracy: 0.7394\n",
            "Epoch 51/100\n",
            "43/43 [==============================] - 0s 2ms/step - loss: 0.2038 - accuracy: 0.9135 - val_loss: 0.9153 - val_accuracy: 0.7377\n",
            "Epoch 52/100\n",
            "43/43 [==============================] - 0s 2ms/step - loss: 0.2078 - accuracy: 0.9128 - val_loss: 0.8974 - val_accuracy: 0.7174\n",
            "Epoch 53/100\n",
            "43/43 [==============================] - 0s 3ms/step - loss: 0.2056 - accuracy: 0.9099 - val_loss: 0.8646 - val_accuracy: 0.7394\n",
            "Epoch 54/100\n",
            "43/43 [==============================] - 0s 2ms/step - loss: 0.2068 - accuracy: 0.9135 - val_loss: 0.8659 - val_accuracy: 0.7360\n",
            "Epoch 55/100\n",
            "43/43 [==============================] - 0s 4ms/step - loss: 0.2117 - accuracy: 0.9135 - val_loss: 0.8927 - val_accuracy: 0.7377\n",
            "Epoch 56/100\n",
            "43/43 [==============================] - 0s 3ms/step - loss: 0.2066 - accuracy: 0.9150 - val_loss: 0.8861 - val_accuracy: 0.7394\n",
            "Epoch 57/100\n",
            "43/43 [==============================] - 0s 2ms/step - loss: 0.2063 - accuracy: 0.9106 - val_loss: 0.9060 - val_accuracy: 0.7394\n",
            "Epoch 58/100\n",
            "43/43 [==============================] - 0s 2ms/step - loss: 0.2098 - accuracy: 0.9128 - val_loss: 0.8753 - val_accuracy: 0.7360\n",
            "Epoch 59/100\n",
            "43/43 [==============================] - 0s 2ms/step - loss: 0.2105 - accuracy: 0.9157 - val_loss: 0.8807 - val_accuracy: 0.7174\n",
            "Epoch 60/100\n",
            "43/43 [==============================] - 0s 2ms/step - loss: 0.2040 - accuracy: 0.9150 - val_loss: 0.9004 - val_accuracy: 0.7394\n",
            "Epoch 61/100\n",
            "43/43 [==============================] - 0s 2ms/step - loss: 0.2076 - accuracy: 0.9128 - val_loss: 0.9337 - val_accuracy: 0.7411\n",
            "Epoch 62/100\n",
            "43/43 [==============================] - 0s 2ms/step - loss: 0.2064 - accuracy: 0.9157 - val_loss: 0.8879 - val_accuracy: 0.7394\n",
            "Epoch 63/100\n",
            "43/43 [==============================] - 0s 2ms/step - loss: 0.2055 - accuracy: 0.9157 - val_loss: 0.9118 - val_accuracy: 0.7394\n",
            "Epoch 64/100\n",
            "43/43 [==============================] - 0s 3ms/step - loss: 0.2039 - accuracy: 0.9208 - val_loss: 0.8926 - val_accuracy: 0.7208\n",
            "Epoch 65/100\n",
            "43/43 [==============================] - 0s 3ms/step - loss: 0.2047 - accuracy: 0.9128 - val_loss: 0.9275 - val_accuracy: 0.7394\n",
            "Epoch 66/100\n",
            "43/43 [==============================] - 0s 2ms/step - loss: 0.2069 - accuracy: 0.9172 - val_loss: 0.8819 - val_accuracy: 0.7360\n",
            "Epoch 67/100\n",
            "43/43 [==============================] - 0s 2ms/step - loss: 0.2113 - accuracy: 0.9121 - val_loss: 0.9230 - val_accuracy: 0.7411\n",
            "Epoch 68/100\n",
            "43/43 [==============================] - 0s 3ms/step - loss: 0.2066 - accuracy: 0.9142 - val_loss: 0.9088 - val_accuracy: 0.7411\n",
            "Epoch 69/100\n",
            "43/43 [==============================] - 0s 2ms/step - loss: 0.2040 - accuracy: 0.9150 - val_loss: 0.9355 - val_accuracy: 0.7394\n",
            "Epoch 70/100\n",
            "43/43 [==============================] - 0s 2ms/step - loss: 0.2056 - accuracy: 0.9121 - val_loss: 0.9125 - val_accuracy: 0.7411\n",
            "Epoch 71/100\n",
            "43/43 [==============================] - 0s 3ms/step - loss: 0.2054 - accuracy: 0.9092 - val_loss: 0.9185 - val_accuracy: 0.7428\n",
            "Epoch 72/100\n",
            "43/43 [==============================] - 0s 3ms/step - loss: 0.2055 - accuracy: 0.9142 - val_loss: 0.9117 - val_accuracy: 0.7394\n",
            "Epoch 73/100\n",
            "43/43 [==============================] - 0s 3ms/step - loss: 0.2035 - accuracy: 0.9172 - val_loss: 0.9034 - val_accuracy: 0.7411\n",
            "Epoch 74/100\n",
            "43/43 [==============================] - 0s 2ms/step - loss: 0.2068 - accuracy: 0.9172 - val_loss: 0.9492 - val_accuracy: 0.7428\n",
            "Epoch 75/100\n",
            "43/43 [==============================] - 0s 2ms/step - loss: 0.2055 - accuracy: 0.9157 - val_loss: 0.9740 - val_accuracy: 0.7377\n",
            "Epoch 76/100\n",
            "43/43 [==============================] - 0s 2ms/step - loss: 0.2070 - accuracy: 0.9172 - val_loss: 0.9193 - val_accuracy: 0.7428\n",
            "Epoch 77/100\n",
            "43/43 [==============================] - 0s 2ms/step - loss: 0.2046 - accuracy: 0.9135 - val_loss: 0.9240 - val_accuracy: 0.7428\n",
            "Epoch 78/100\n",
            "43/43 [==============================] - 0s 2ms/step - loss: 0.2029 - accuracy: 0.9135 - val_loss: 0.8962 - val_accuracy: 0.7394\n",
            "Epoch 79/100\n",
            "43/43 [==============================] - 0s 3ms/step - loss: 0.2116 - accuracy: 0.9077 - val_loss: 0.8994 - val_accuracy: 0.7428\n",
            "Epoch 80/100\n",
            "43/43 [==============================] - 0s 3ms/step - loss: 0.2074 - accuracy: 0.9128 - val_loss: 0.8820 - val_accuracy: 0.7394\n",
            "Epoch 81/100\n",
            "43/43 [==============================] - 0s 3ms/step - loss: 0.2067 - accuracy: 0.9135 - val_loss: 0.9026 - val_accuracy: 0.7411\n",
            "Epoch 82/100\n",
            "43/43 [==============================] - 0s 2ms/step - loss: 0.2052 - accuracy: 0.9164 - val_loss: 0.9293 - val_accuracy: 0.7411\n",
            "Epoch 83/100\n",
            "43/43 [==============================] - 0s 2ms/step - loss: 0.2063 - accuracy: 0.9164 - val_loss: 0.8978 - val_accuracy: 0.7394\n",
            "Epoch 84/100\n",
            "43/43 [==============================] - 0s 3ms/step - loss: 0.2019 - accuracy: 0.9150 - val_loss: 0.8981 - val_accuracy: 0.7174\n",
            "Epoch 85/100\n",
            "43/43 [==============================] - 0s 2ms/step - loss: 0.2036 - accuracy: 0.9099 - val_loss: 0.9002 - val_accuracy: 0.7191\n",
            "Epoch 86/100\n",
            "43/43 [==============================] - 0s 2ms/step - loss: 0.2011 - accuracy: 0.9150 - val_loss: 0.8903 - val_accuracy: 0.7377\n",
            "Epoch 87/100\n",
            "43/43 [==============================] - 0s 3ms/step - loss: 0.2087 - accuracy: 0.9135 - val_loss: 0.9058 - val_accuracy: 0.7394\n",
            "Epoch 88/100\n",
            "43/43 [==============================] - 0s 3ms/step - loss: 0.2060 - accuracy: 0.9113 - val_loss: 0.9147 - val_accuracy: 0.6802\n",
            "Epoch 89/100\n",
            "43/43 [==============================] - 0s 2ms/step - loss: 0.2103 - accuracy: 0.9077 - val_loss: 0.9114 - val_accuracy: 0.7428\n",
            "Epoch 90/100\n",
            "43/43 [==============================] - 0s 3ms/step - loss: 0.2054 - accuracy: 0.9164 - val_loss: 0.9185 - val_accuracy: 0.7394\n",
            "Epoch 91/100\n",
            "43/43 [==============================] - 0s 2ms/step - loss: 0.2036 - accuracy: 0.9164 - val_loss: 0.9536 - val_accuracy: 0.7191\n",
            "Epoch 92/100\n",
            "43/43 [==============================] - 0s 2ms/step - loss: 0.2037 - accuracy: 0.9121 - val_loss: 0.9055 - val_accuracy: 0.7394\n",
            "Epoch 93/100\n",
            "43/43 [==============================] - 0s 3ms/step - loss: 0.2074 - accuracy: 0.9113 - val_loss: 0.9217 - val_accuracy: 0.7394\n",
            "Epoch 94/100\n",
            "43/43 [==============================] - 0s 2ms/step - loss: 0.2104 - accuracy: 0.9092 - val_loss: 0.9828 - val_accuracy: 0.7394\n",
            "Epoch 95/100\n",
            "43/43 [==============================] - 0s 3ms/step - loss: 0.2059 - accuracy: 0.9099 - val_loss: 0.8965 - val_accuracy: 0.7428\n",
            "Epoch 96/100\n",
            "43/43 [==============================] - 0s 3ms/step - loss: 0.2042 - accuracy: 0.9113 - val_loss: 0.9541 - val_accuracy: 0.7411\n",
            "Epoch 97/100\n",
            "43/43 [==============================] - 0s 3ms/step - loss: 0.2068 - accuracy: 0.9135 - val_loss: 0.9033 - val_accuracy: 0.7242\n",
            "Epoch 98/100\n",
            "43/43 [==============================] - 0s 3ms/step - loss: 0.2017 - accuracy: 0.9193 - val_loss: 0.9654 - val_accuracy: 0.7174\n",
            "Epoch 99/100\n",
            "43/43 [==============================] - 0s 2ms/step - loss: 0.2030 - accuracy: 0.9201 - val_loss: 0.9016 - val_accuracy: 0.7411\n",
            "Epoch 100/100\n",
            "43/43 [==============================] - 0s 3ms/step - loss: 0.2024 - accuracy: 0.9150 - val_loss: 0.9018 - val_accuracy: 0.7411\n"
          ]
        }
      ],
      "source": [
        "model = tf.keras.Sequential([\n",
        "    tf.keras.layers.Embedding(vocab_size,embedding_dim, input_length=max_length),\n",
        "    # tf.keras.layers.Bidirectional(tf.keras.layers.LSTM(50)),\n",
        "    tf.keras.layers.GlobalAveragePooling1D(),\n",
        "    # tf.keras.layers.Dense(64, activation='relu'),\n",
        "    tf.keras.layers.Dense(32, activation='relu'),\n",
        "    tf.keras.layers.Dense(32, activation='relu'),\n",
        "    tf.keras.layers.Dense(5, activation='softmax')\n",
        "])\n",
        "model.summary()\n",
        "model.compile(loss='categorical_crossentropy', optimizer='adam', metrics=['accuracy'])\n",
        "history = model.fit(train_padded, train_labels,\n",
        "                    epochs=100,\n",
        "                    validation_data=(val_padded, val_labels))"
      ]
    },
    {
      "cell_type": "code",
      "execution_count": 37,
      "metadata": {
        "colab": {
          "base_uri": "https://localhost:8080/",
          "height": 472
        },
        "id": "87JRKCet-FtG",
        "outputId": "f2d82bd9-25e9-41bb-b2bd-540286b769d0"
      },
      "outputs": [
        {
          "data": {
            "image/png": "[encoded data removed]",
            "text/plain": [
              "<Figure size 640x480 with 1 Axes>"
            ]
          },
          "metadata": {},
          "output_type": "display_data"
        }
      ],
      "source": [
        "loss = history.history['loss']\n",
        "val_loss = history.history['val_loss']\n",
        "\n",
        "epochs = [*range(100)]\n",
        "\n",
        "plt.plot(epochs, loss, 'r')\n",
        "plt.plot(epochs, val_loss, 'b')\n",
        "plt.title('Training and validation loss')\n",
        "plt.xlabel(\"Epochs\")\n",
        "plt.ylabel(\"Loss\")\n",
        "plt.legend([\"Loss\", \"Validation Loss\"])\n",
        "plt.show()"
      ]
    },
    {
      "cell_type": "code",
      "execution_count": 38,
      "metadata": {
        "colab": {
          "base_uri": "https://localhost:8080/",
          "height": 472
        },
        "id": "RUTy9i2H_lNs",
        "outputId": "10433316-e4f4-4bad-fa95-5317d738077d"
      },
      "outputs": [
        {
          "data": {
            "image/png": "[encoded data removed]",
            "text/plain": [
              "<Figure size 640x480 with 1 Axes>"
            ]
          },
          "metadata": {},
          "output_type": "display_data"
        }
      ],
      "source": [
        "acc = history.history['accuracy']\n",
        "val_acc = history.history['val_accuracy']\n",
        "plt.plot(epochs, acc, 'r')\n",
        "plt.plot(epochs, val_acc, 'b')\n",
        "plt.title('Training and validation accuracy')\n",
        "plt.xlabel(\"Epochs\")\n",
        "plt.ylabel(\"Accuracy\")\n",
        "plt.legend([\"Accuracy\", \"Validation Accuracy\"])\n",
        "plt.show()"
      ]
    },
    {
      "cell_type": "code",
      "execution_count": 39,
      "metadata": {
        "colab": {
          "base_uri": "https://localhost:8080/"
        },
        "id": "7OS8Xyma_0R_",
        "outputId": "ee1e30fc-84ad-41b9-d0eb-b6d2e74a4a09"
      },
      "outputs": [
        {
          "name": "stdout",
          "output_type": "stream",
          "text": [
            "The slope of your validation loss curve is 0.00002\n"
          ]
        }
      ],
      "source": [
        "slope, *_ = linregress(epochs, val_loss)\n",
        "print(f\"The slope of your validation loss curve is {slope:.5f}\")"
      ]
    },
    {
      "cell_type": "code",
      "execution_count": 40,
      "metadata": {
        "id": "ZmlTr0YF_8KA"
      },
      "outputs": [],
      "source": [
        "with open('history.pkl', 'wb') as f:\n",
        "    pickle.dump(history.history, f)"
      ]
    },
    {
      "cell_type": "code",
      "execution_count": 41,
      "metadata": {
        "id": "7Djmud_LIwo5"
      },
      "outputs": [],
      "source": [
        "def encode(texts):\n",
        "  text_sequences = tokenizer.texts_to_sequences(texts)\n",
        "  text_padded = pad_sequences(text_sequences, maxlen=max_length, padding=padding_type, truncating=trunc_type)\n",
        "  return text_padded"
      ]
    },
    {
      "cell_type": "code",
      "execution_count": 42,
      "metadata": {
        "colab": {
          "base_uri": "https://localhost:8080/"
        },
        "id": "TvFCynr0_-ft",
        "outputId": "1028e2bc-6b16-452c-eef1-904dc0854fcb"
      },
      "outputs": [
        {
          "name": "stdout",
          "output_type": "stream",
          "text": [
            "1/1 [==============================] - 0s 111ms/step\n",
            "Input Text: MUSTELA BABY OIL 100ML, Predicted Label: others\n",
            "Input Text: NASI PUTIH, Predicted Label: food\n",
            "Input Text: SATE PADANG, Predicted Label: food\n",
            "Input Text: GULAI CUMI, Predicted Label: food\n",
            "Input Text: DENDENG BALADO, Predicted Label: food\n",
            "Input Text: KERUPUK KULIT, Predicted Label: food\n",
            "Input Text: RENDANG DAGING, Predicted Label: food\n",
            "Input Text: GULAI HATI, Predicted Label: food\n",
            "Input Text: MUJAIR BAKAR, Predicted Label: others\n",
            "Input Text: GULAI OTAK, Predicted Label: food\n",
            "Input Text: AYAM BAKAR, Predicted Label: food\n",
            "Input Text: SAMBAL TRI BELAH, Predicted Label: food\n",
            "Input Text: LALAP SEGAR, Predicted Label: others\n",
            "Input Text: AYAM PENYET, Predicted Label: food\n",
            "Input Text: AYAM GORENG, Predicted Label: food\n",
            "Input Text: AYAM POP, Predicted Label: food\n",
            "Input Text: GULAI TUNJANG, Predicted Label: food\n",
            "Input Text: TEH, Predicted Label: food\n"
          ]
        }
      ],
      "source": [
        "texts = ['MUSTELA BABY OIL 100ML',\n",
        "'NASI PUTIH',\n",
        "'SATE PADANG',\n",
        "'GULAI CUMI',\n",
        "'DENDENG BALADO',\n",
        "'KERUPUK KULIT',\n",
        "'RENDANG DAGING',\n",
        "'GULAI HATI',\n",
        "'MUJAIR BAKAR',\n",
        "'GULAI OTAK',\n",
        "'AYAM BAKAR',\n",
        "'SAMBAL TRI BELAH',\n",
        "'LALAP SEGAR',\n",
        "'AYAM PENYET',\n",
        "'AYAM GORENG',\n",
        "'AYAM POP',\n",
        "'GULAI TUNJANG',\n",
        "'TEH']\n",
        "padded_inputs = encode(texts)\n",
        "padded_inputs_tensor = tf.convert_to_tensor(np.array(padded_inputs))\n",
        "predictions = model.predict(padded_inputs_tensor)\n",
        "\n",
        "for i, text in enumerate(texts):\n",
        "    predicted_class = np.argmax(predictions[i])\n",
        "    predicted_label = label_encoder.classes_[predicted_class]\n",
        "    print(f\"Input Text: {text}, Predicted Label: {predicted_label}\")"
      ]
    },
    {
      "cell_type": "code",
      "execution_count": null,
      "metadata": {
        "id": "G0Z6KAbNJu-F"
      },
      "outputs": [],
      "source": []
    }
  ],
  "metadata": {
    "colab": {
      "provenance": []
    },
    "kernelspec": {
      "display_name": "Python 3",
      "name": "python3"
    },
    "language_info": {
      "codemirror_mode": {
        "name": "ipython",
        "version": 3
      },
      "file_extension": ".py",
      "mimetype": "text/x-python",
      "name": "python",
      "nbconvert_exporter": "python",
      "pygments_lexer": "ipython3",
      "version": "3.11.7"
    }
  },
  "nbformat": 4,
  "nbformat_minor": 0
}
